{
 "cells": [
  {
   "cell_type": "code",
   "execution_count": null,
   "metadata": {},
   "outputs": [],
   "source": [
    "cipher = [12147, 20481, 7073, 10408, 26615, 19066, 19363, 10852, 11705, 17445, 3028, 10640, 10623, 13243, 5789, 17436, 12348, 10818, 15891, 2818, 13690, 11671, 6410, 16649,\n",
    "          15905, 22240, 7096, 9801, 6090, 9624, 16660, 18531, 22533, 24381, 14909, 17705, 16389, 21346, 19626, 29977, 23452, 14895, 17452, 17733, 22235, 24687, 15649, 21941, 11472]"
   ]
  },
  {
   "cell_type": "code",
   "execution_count": null,
   "metadata": {},
   "outputs": [],
   "source": [
    "from random import shuffle\n",
    "flag = b\"ctf4b{abcdefghijklmnopqrstuvwxyz}\"\n",
    "cipher = []\n",
    "for i in range(len(flag)):\n",
    "    print(\"i=\", i)\n",
    "    f = flag[i]\n",
    "    print(\"f=\", f)\n",
    "    c = (f + i)**2 + i\n",
    "    print(\"c=\", c)\n",
    "    cipher.append(c)\n",
    "\n",
    "print(\"cipher =\", cipher)\n",
    "shuffle(cipher)\n",
    "print(\"random cipher =\", cipher)"
   ]
  },
  {
   "cell_type": "code",
   "execution_count": null,
   "metadata": {},
   "outputs": [],
   "source": [
    "i = 3\n",
    "f = 52\n",
    "print(\"f + i = \", f + i)\n",
    "print(\"(f + i)**2 = \", (f + i)**2)\n",
    "print(\"(f + i)**2 + i = \", (f + i)**2 + i)\n"
   ]
  },
  {
   "cell_type": "code",
   "execution_count": null,
   "metadata": {},
   "outputs": [],
   "source": [
    "# この 3028 から i = 3 の f = 52 を求める\n",
    "import math\n",
    "i = 0\n",
    "while math.sqrt(3028 - i) % 1 != 0:\n",
    "    i += 1\n",
    "print(\"math.sqrt(3028) = \", math.sqrt(3028 - i))\n",
    "print(\"i = \", i)\n",
    "print(\"f = \", math.sqrt(3028 - i) -i )"
   ]
  },
  {
   "cell_type": "code",
   "execution_count": null,
   "metadata": {},
   "outputs": [],
   "source": [
    "cipher = [12147, 20481, 7073, 10408, 26615, 19066, 19363, 10852, 11705, 17445, 3028, 10640, 10623, 13243, 5789, 17436, 12348, 10818, 15891, 2818, 13690, 11671, 6410, 16649,\n",
    "          15905, 22240, 7096, 9801, 6090, 9624, 16660, 18531, 22533, 24381, 14909, 17705, 16389, 21346, 19626, 29977, 23452, 14895, 17452, 17733, 22235, 24687, 15649, 21941, 11472]\n",
    "\n",
    "ans = []\n",
    "for i in range(len(cipher)):\n",
    "    ans.append(0)\n",
    "\n",
    "for i in range(len(cipher)):\n",
    "    tmp_i = 0\n",
    "    while math.sqrt(cipher[i] - tmp_i) % 1 != 0:\n",
    "        tmp_i += 1\n",
    "    ans[tmp_i] = math.sqrt(cipher[i] - tmp_i) - tmp_i\n",
    "\n",
    "solve = \"\"\n",
    "\n",
    "for i in range(len(ans)):\n",
    "    solve += chr(int(ans[i]))\n",
    "\n",
    "print(solve)\n"
   ]
  }
 ],
 "metadata": {
  "kernelspec": {
   "display_name": "Python 3",
   "language": "python",
   "name": "python3"
  },
  "language_info": {
   "codemirror_mode": {
    "name": "ipython",
    "version": 3
   },
   "file_extension": ".py",
   "mimetype": "text/x-python",
   "name": "python",
   "nbconvert_exporter": "python",
   "pygments_lexer": "ipython3",
   "version": "3.9.0"
  },
  "orig_nbformat": 4
 },
 "nbformat": 4,
 "nbformat_minor": 2
}
