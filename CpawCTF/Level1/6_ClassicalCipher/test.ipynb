{
 "cells": [
  {
   "cell_type": "code",
   "execution_count": 4,
   "metadata": {},
   "outputs": [
    {
     "name": "stdout",
     "output_type": "stream",
     "text": [
      "c\n",
      "p\n",
      "a\n",
      "w\n",
      "x\n",
      "C\n",
      "a\n",
      "e\n",
      "s\n",
      "a\n",
      "r\n",
      "\\\n",
      "c\n",
      "i\n",
      "p\n",
      "h\n",
      "e\n",
      "r\n",
      "\\\n",
      "i\n",
      "s\n",
      "\\\n",
      "c\n",
      "l\n",
      "a\n",
      "s\n",
      "s\n",
      "i\n",
      "c\n",
      "a\n",
      "l\n",
      "\\\n",
      "c\n",
      "i\n",
      "p\n",
      "h\n",
      "e\n",
      "r\n",
      "z\n"
     ]
    }
   ],
   "source": [
    "cipher = \"fsdz{Fdhvdu_flskhu_lv_fodvvlfdo_flskhu}\"\n",
    "for i in cipher:\n",
    "    print(chr(ord(i)-3))"
   ]
  },
  {
   "cell_type": "code",
   "execution_count": 5,
   "metadata": {},
   "outputs": [
    {
     "name": "stdout",
     "output_type": "stream",
     "text": [
      "cpaw{Caesar_cipher_is_classical_cipher}\n"
     ]
    }
   ],
   "source": [
    "ans = \"\"\n",
    "for i in cipher:\n",
    "    if i != \"{\" and i != \"_\" and i != \"}\":\n",
    "        ans += chr(ord(i)-3)\n",
    "    else:\n",
    "        ans += i\n",
    "\n",
    "print(ans)"
   ]
  },
  {
   "cell_type": "code",
   "execution_count": 6,
   "metadata": {},
   "outputs": [
    {
     "name": "stdout",
     "output_type": "stream",
     "text": [
      "b'fsdz{Fdhvdu_flskhu_lv_fodvvlfdo_flskhu}'\n"
     ]
    }
   ],
   "source": [
    "cipher = b'fsdz{Fdhvdu_flskhu_lv_fodvvlfdo_flskhu}'\n",
    "print(cipher)"
   ]
  },
  {
   "cell_type": "code",
   "execution_count": null,
   "metadata": {},
   "outputs": [],
   "source": []
  }
 ],
 "metadata": {
  "kernelspec": {
   "display_name": "Python 3",
   "language": "python",
   "name": "python3"
  },
  "language_info": {
   "codemirror_mode": {
    "name": "ipython",
    "version": 3
   },
   "file_extension": ".py",
   "mimetype": "text/x-python",
   "name": "python",
   "nbconvert_exporter": "python",
   "pygments_lexer": "ipython3",
   "version": "3.9.0"
  },
  "orig_nbformat": 4
 },
 "nbformat": 4,
 "nbformat_minor": 2
}
