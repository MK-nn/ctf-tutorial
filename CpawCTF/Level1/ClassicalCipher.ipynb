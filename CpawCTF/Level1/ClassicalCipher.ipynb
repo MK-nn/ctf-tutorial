{
 "cells": [
  {
   "cell_type": "code",
   "execution_count": null,
   "metadata": {},
   "outputs": [],
   "source": [
    "cipher = \"fsdz{Fdhvdu_flskhu_lv_fodvvlfdo_flskhu}\"\n",
    "for i in cipher:\n",
    "    print(chr(ord(i)-3))\n",
    "  "
   ]
  },
  {
   "cell_type": "code",
   "execution_count": null,
   "metadata": {},
   "outputs": [],
   "source": [
    "ans = \"\"\n",
    "for i in cipher:\n",
    "    if i != \"{\" and i != \"_\" and i != \"}\":\n",
    "        ans += chr(ord(i)-3)\n",
    "    else:\n",
    "        ans += i\n",
    "\n",
    "print(ans)"
   ]
  }
 ],
 "metadata": {
  "kernelspec": {
   "display_name": "Python 3",
   "language": "python",
   "name": "python3"
  },
  "language_info": {
   "codemirror_mode": {
    "name": "ipython",
    "version": 3
   },
   "file_extension": ".py",
   "mimetype": "text/x-python",
   "name": "python",
   "nbconvert_exporter": "python",
   "pygments_lexer": "ipython3",
   "version": "3.9.0"
  },
  "orig_nbformat": 4
 },
 "nbformat": 4,
 "nbformat_minor": 2
}
